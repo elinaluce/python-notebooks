{
 "cells": [
  {
   "cell_type": "code",
   "execution_count": 93,
   "metadata": {
    "collapsed": true
   },
   "outputs": [],
   "source": [
    "%matplotlib inline\n",
    "\n",
    "import numpy as np\n",
    "import pandas as pd\n",
    "import matplotlib.pyplot as plt"
   ]
  },
  {
   "cell_type": "code",
   "execution_count": 94,
   "metadata": {
    "collapsed": false
   },
   "outputs": [
    {
     "data": {
      "text/html": [
       "<div>\n",
       "<table border=\"1\" class=\"dataframe\">\n",
       "  <thead>\n",
       "    <tr style=\"text-align: right;\">\n",
       "      <th></th>\n",
       "      <th>Department</th>\n",
       "      <th>Project ID</th>\n",
       "      <th>Project Name</th>\n",
       "      <th>Fund</th>\n",
       "      <th>City Location</th>\n",
       "      <th>Latitude</th>\n",
       "      <th>Longitude</th>\n",
       "      <th>Map Location</th>\n",
       "      <th>Regions</th>\n",
       "      <th>Approved Amount</th>\n",
       "    </tr>\n",
       "    <tr>\n",
       "      <th>Fiscal Year</th>\n",
       "      <th></th>\n",
       "      <th></th>\n",
       "      <th></th>\n",
       "      <th></th>\n",
       "      <th></th>\n",
       "      <th></th>\n",
       "      <th></th>\n",
       "      <th></th>\n",
       "      <th></th>\n",
       "      <th></th>\n",
       "    </tr>\n",
       "  </thead>\n",
       "  <tbody>\n",
       "    <tr>\n",
       "      <th>2018-01-01</th>\n",
       "      <td>Public Works</td>\n",
       "      <td>PW17724</td>\n",
       "      <td>Western Avenue Area Infrastructure Renewal Pro...</td>\n",
       "      <td>General Fund</td>\n",
       "      <td>Western Ave. between Green St. and Memorial Dr.</td>\n",
       "      <td>42.365307</td>\n",
       "      <td>-71.105467</td>\n",
       "      <td>(42.3653071419, -71.1054665432)</td>\n",
       "      <td>NaN</td>\n",
       "      <td>12000000</td>\n",
       "    </tr>\n",
       "    <tr>\n",
       "      <th>2019-01-01</th>\n",
       "      <td>Public Works</td>\n",
       "      <td>PW17724</td>\n",
       "      <td>Western Avenue Area Infrastructure Renewal Pro...</td>\n",
       "      <td>General Fund</td>\n",
       "      <td>Western Ave. between Green St. and Memorial Dr.</td>\n",
       "      <td>42.365307</td>\n",
       "      <td>-71.105467</td>\n",
       "      <td>(42.3653071419, -71.1054665432)</td>\n",
       "      <td>NaN</td>\n",
       "      <td>4000000</td>\n",
       "    </tr>\n",
       "    <tr>\n",
       "      <th>2020-01-01</th>\n",
       "      <td>Public Works</td>\n",
       "      <td>PW17724</td>\n",
       "      <td>Western Avenue Area Infrastructure Renewal Pro...</td>\n",
       "      <td>General Fund</td>\n",
       "      <td>Western Ave. between Green St. and Memorial Dr.</td>\n",
       "      <td>42.365307</td>\n",
       "      <td>-71.105467</td>\n",
       "      <td>(42.3653071419, -71.1054665432)</td>\n",
       "      <td>NaN</td>\n",
       "      <td>3000000</td>\n",
       "    </tr>\n",
       "    <tr>\n",
       "      <th>2017-01-01</th>\n",
       "      <td>Public Works</td>\n",
       "      <td>PW17724</td>\n",
       "      <td>Western Avenue Area Infrastructure Renewal Pro...</td>\n",
       "      <td>General Fund</td>\n",
       "      <td>Western Ave. between Green St. and Memorial Dr.</td>\n",
       "      <td>42.365307</td>\n",
       "      <td>-71.105467</td>\n",
       "      <td>(42.3653071419, -71.1054665432)</td>\n",
       "      <td>NaN</td>\n",
       "      <td>2000000</td>\n",
       "    </tr>\n",
       "    <tr>\n",
       "      <th>2018-01-01</th>\n",
       "      <td>Water</td>\n",
       "      <td>WA16531</td>\n",
       "      <td>Watershed Consulting Services</td>\n",
       "      <td>Water Fund</td>\n",
       "      <td>250 Fresh Pond Parkway</td>\n",
       "      <td>42.383459</td>\n",
       "      <td>-71.143632</td>\n",
       "      <td>(42.3834586389, -71.143632324)</td>\n",
       "      <td>NaN</td>\n",
       "      <td>263000</td>\n",
       "    </tr>\n",
       "  </tbody>\n",
       "</table>\n",
       "</div>"
      ],
      "text/plain": [
       "               Department Project ID  \\\n",
       "Fiscal Year                            \n",
       "2018-01-01   Public Works    PW17724   \n",
       "2019-01-01   Public Works    PW17724   \n",
       "2020-01-01   Public Works    PW17724   \n",
       "2017-01-01   Public Works    PW17724   \n",
       "2018-01-01          Water    WA16531   \n",
       "\n",
       "                                                  Project Name          Fund  \\\n",
       "Fiscal Year                                                                    \n",
       "2018-01-01   Western Avenue Area Infrastructure Renewal Pro...  General Fund   \n",
       "2019-01-01   Western Avenue Area Infrastructure Renewal Pro...  General Fund   \n",
       "2020-01-01   Western Avenue Area Infrastructure Renewal Pro...  General Fund   \n",
       "2017-01-01   Western Avenue Area Infrastructure Renewal Pro...  General Fund   \n",
       "2018-01-01                       Watershed Consulting Services    Water Fund   \n",
       "\n",
       "                                               City Location   Latitude  \\\n",
       "Fiscal Year                                                               \n",
       "2018-01-01   Western Ave. between Green St. and Memorial Dr.  42.365307   \n",
       "2019-01-01   Western Ave. between Green St. and Memorial Dr.  42.365307   \n",
       "2020-01-01   Western Ave. between Green St. and Memorial Dr.  42.365307   \n",
       "2017-01-01   Western Ave. between Green St. and Memorial Dr.  42.365307   \n",
       "2018-01-01                            250 Fresh Pond Parkway  42.383459   \n",
       "\n",
       "             Longitude                     Map Location  Regions  \\\n",
       "Fiscal Year                                                        \n",
       "2018-01-01  -71.105467  (42.3653071419, -71.1054665432)      NaN   \n",
       "2019-01-01  -71.105467  (42.3653071419, -71.1054665432)      NaN   \n",
       "2020-01-01  -71.105467  (42.3653071419, -71.1054665432)      NaN   \n",
       "2017-01-01  -71.105467  (42.3653071419, -71.1054665432)      NaN   \n",
       "2018-01-01  -71.143632   (42.3834586389, -71.143632324)      NaN   \n",
       "\n",
       "             Approved Amount  \n",
       "Fiscal Year                   \n",
       "2018-01-01          12000000  \n",
       "2019-01-01           4000000  \n",
       "2020-01-01           3000000  \n",
       "2017-01-01           2000000  \n",
       "2018-01-01            263000  "
      ]
     },
     "execution_count": 94,
     "metadata": {},
     "output_type": "execute_result"
    }
   ],
   "source": [
    "# Importing the City of Cambridge's 5 year fiscal budget plan into a dataframe.  \n",
    "budget = pd.DataFrame.from_csv('Budget_-_Capital.csv')\n",
    "budget[:5]"
   ]
  },
  {
   "cell_type": "code",
   "execution_count": 95,
   "metadata": {
    "collapsed": false
   },
   "outputs": [],
   "source": [
    "# Converting Approved Amount type from object to int32, so that I can calculate some stats on the budget.\n",
    "budget['Approved Amount'] = budget['Approved Amount'].astype(np.int32)"
   ]
  },
  {
   "cell_type": "code",
   "execution_count": 96,
   "metadata": {
    "collapsed": true
   },
   "outputs": [],
   "source": [
    "# Creating a new dataframe with just Approved Amount.\n",
    "budget_total = budget[['Approved Amount']]"
   ]
  },
  {
   "cell_type": "code",
   "execution_count": 97,
   "metadata": {
    "collapsed": false
   },
   "outputs": [
    {
     "data": {
      "text/plain": [
       "DatetimeIndex(['2018-01-01', '2019-01-01', '2020-01-01', '2017-01-01',\n",
       "               '2018-01-01', '2019-01-01', '2020-01-01', '2017-01-01',\n",
       "               '2016-01-01', '2018-01-01',\n",
       "               ...\n",
       "               '2016-01-01', '2016-01-01', '2017-01-01', '2016-01-01',\n",
       "               '2016-01-01', '2018-01-01', '2019-01-01', '2020-01-01',\n",
       "               '2017-01-01', '2016-01-01'],\n",
       "              dtype='datetime64[ns]', name=u'Fiscal Year', length=287, freq=None)"
      ]
     },
     "execution_count": 97,
     "metadata": {},
     "output_type": "execute_result"
    }
   ],
   "source": [
    "budget_total.index"
   ]
  },
  {
   "cell_type": "code",
   "execution_count": 105,
   "metadata": {
    "collapsed": false
   },
   "outputs": [
    {
     "data": {
      "text/plain": [
       "array([2018, 2019, 2020, 2017, 2018, 2019, 2020, 2017, 2016, 2018, 2019,\n",
       "       2020, 2017, 2016, 2018, 2019, 2020, 2017, 2016, 2018, 2019, 2020,\n",
       "       2017, 2016, 2018, 2019, 2020, 2017, 2016, 2018], dtype=int32)"
      ]
     },
     "execution_count": 105,
     "metadata": {},
     "output_type": "execute_result"
    }
   ],
   "source": [
    "# Checking the year index array.\n",
    "budget_total.index.year[:30]"
   ]
  },
  {
   "cell_type": "code",
   "execution_count": 99,
   "metadata": {
    "collapsed": false
   },
   "outputs": [
    {
     "name": "stderr",
     "output_type": "stream",
     "text": [
      "/usr/local/lib/python2.7/dist-packages/ipykernel/__main__.py:2: SettingWithCopyWarning: \n",
      "A value is trying to be set on a copy of a slice from a DataFrame.\n",
      "Try using .loc[row_indexer,col_indexer] = value instead\n",
      "\n",
      "See the caveats in the documentation: http://pandas.pydata.org/pandas-docs/stable/indexing.html#indexing-view-versus-copy\n",
      "  from ipykernel import kernelapp as app\n"
     ]
    }
   ],
   "source": [
    "# Assigning a new column called Year to the data by using the index year.\n",
    "budget_total['Year'] = budget.index.year"
   ]
  },
  {
   "cell_type": "code",
   "execution_count": 100,
   "metadata": {
    "collapsed": false
   },
   "outputs": [
    {
     "data": {
      "text/html": [
       "<div>\n",
       "<table border=\"1\" class=\"dataframe\">\n",
       "  <thead>\n",
       "    <tr style=\"text-align: right;\">\n",
       "      <th></th>\n",
       "      <th>Approved Amount</th>\n",
       "      <th>Year</th>\n",
       "    </tr>\n",
       "    <tr>\n",
       "      <th>Fiscal Year</th>\n",
       "      <th></th>\n",
       "      <th></th>\n",
       "    </tr>\n",
       "  </thead>\n",
       "  <tbody>\n",
       "    <tr>\n",
       "      <th>2018-01-01</th>\n",
       "      <td>12000000</td>\n",
       "      <td>2018</td>\n",
       "    </tr>\n",
       "    <tr>\n",
       "      <th>2019-01-01</th>\n",
       "      <td>4000000</td>\n",
       "      <td>2019</td>\n",
       "    </tr>\n",
       "    <tr>\n",
       "      <th>2020-01-01</th>\n",
       "      <td>3000000</td>\n",
       "      <td>2020</td>\n",
       "    </tr>\n",
       "    <tr>\n",
       "      <th>2017-01-01</th>\n",
       "      <td>2000000</td>\n",
       "      <td>2017</td>\n",
       "    </tr>\n",
       "    <tr>\n",
       "      <th>2018-01-01</th>\n",
       "      <td>263000</td>\n",
       "      <td>2018</td>\n",
       "    </tr>\n",
       "  </tbody>\n",
       "</table>\n",
       "</div>"
      ],
      "text/plain": [
       "             Approved Amount  Year\n",
       "Fiscal Year                       \n",
       "2018-01-01          12000000  2018\n",
       "2019-01-01           4000000  2019\n",
       "2020-01-01           3000000  2020\n",
       "2017-01-01           2000000  2017\n",
       "2018-01-01            263000  2018"
      ]
     },
     "execution_count": 100,
     "metadata": {},
     "output_type": "execute_result"
    }
   ],
   "source": [
    "budget_total[:5]"
   ]
  },
  {
   "cell_type": "code",
   "execution_count": 101,
   "metadata": {
    "collapsed": false
   },
   "outputs": [
    {
     "data": {
      "text/html": [
       "<div>\n",
       "<table border=\"1\" class=\"dataframe\">\n",
       "  <thead>\n",
       "    <tr style=\"text-align: right;\">\n",
       "      <th></th>\n",
       "      <th>Approved Amount</th>\n",
       "    </tr>\n",
       "    <tr>\n",
       "      <th>Year</th>\n",
       "      <th></th>\n",
       "    </tr>\n",
       "  </thead>\n",
       "  <tbody>\n",
       "    <tr>\n",
       "      <th>2016</th>\n",
       "      <td>85276290</td>\n",
       "    </tr>\n",
       "    <tr>\n",
       "      <th>2017</th>\n",
       "      <td>129438685</td>\n",
       "    </tr>\n",
       "    <tr>\n",
       "      <th>2018</th>\n",
       "      <td>103571685</td>\n",
       "    </tr>\n",
       "    <tr>\n",
       "      <th>2019</th>\n",
       "      <td>43968355</td>\n",
       "    </tr>\n",
       "    <tr>\n",
       "      <th>2020</th>\n",
       "      <td>31370355</td>\n",
       "    </tr>\n",
       "  </tbody>\n",
       "</table>\n",
       "</div>"
      ],
      "text/plain": [
       "      Approved Amount\n",
       "Year                 \n",
       "2016         85276290\n",
       "2017        129438685\n",
       "2018        103571685\n",
       "2019         43968355\n",
       "2020         31370355"
      ]
     },
     "execution_count": 101,
     "metadata": {},
     "output_type": "execute_result"
    }
   ],
   "source": [
    "# Grouping by Year.\n",
    "budget_counts = budget_total.groupby('Year')\n",
    "\n",
    "# Calculating the budget total for the five year projections.\n",
    "budget_counts.aggregate(sum)"
   ]
  },
  {
   "cell_type": "code",
   "execution_count": 102,
   "metadata": {
    "collapsed": false
   },
   "outputs": [
    {
     "data": {
      "text/html": [
       "<div>\n",
       "<table border=\"1\" class=\"dataframe\">\n",
       "  <thead>\n",
       "    <tr style=\"text-align: right;\">\n",
       "      <th></th>\n",
       "      <th>Approved Amount</th>\n",
       "    </tr>\n",
       "    <tr>\n",
       "      <th>Year</th>\n",
       "      <th></th>\n",
       "    </tr>\n",
       "  </thead>\n",
       "  <tbody>\n",
       "    <tr>\n",
       "      <th>2016</th>\n",
       "      <td>100000</td>\n",
       "    </tr>\n",
       "    <tr>\n",
       "      <th>2017</th>\n",
       "      <td>155000</td>\n",
       "    </tr>\n",
       "    <tr>\n",
       "      <th>2018</th>\n",
       "      <td>145665</td>\n",
       "    </tr>\n",
       "    <tr>\n",
       "      <th>2019</th>\n",
       "      <td>129354</td>\n",
       "    </tr>\n",
       "    <tr>\n",
       "      <th>2020</th>\n",
       "      <td>129354</td>\n",
       "    </tr>\n",
       "  </tbody>\n",
       "</table>\n",
       "</div>"
      ],
      "text/plain": [
       "      Approved Amount\n",
       "Year                 \n",
       "2016           100000\n",
       "2017           155000\n",
       "2018           145665\n",
       "2019           129354\n",
       "2020           129354"
      ]
     },
     "execution_count": 102,
     "metadata": {},
     "output_type": "execute_result"
    }
   ],
   "source": [
    "# Calculating the median cost for Cambridge's planned projects.\n",
    "budget_counts.aggregate(np.median)"
   ]
  },
  {
   "cell_type": "code",
   "execution_count": 103,
   "metadata": {
    "collapsed": false
   },
   "outputs": [
    {
     "data": {
      "text/html": [
       "<div>\n",
       "<table border=\"1\" class=\"dataframe\">\n",
       "  <thead>\n",
       "    <tr style=\"text-align: right;\">\n",
       "      <th></th>\n",
       "      <th>Approved Amount</th>\n",
       "    </tr>\n",
       "    <tr>\n",
       "      <th>Year</th>\n",
       "      <th></th>\n",
       "    </tr>\n",
       "  </thead>\n",
       "  <tbody>\n",
       "    <tr>\n",
       "      <th>2016</th>\n",
       "      <td>25000000</td>\n",
       "    </tr>\n",
       "    <tr>\n",
       "      <th>2017</th>\n",
       "      <td>60000000</td>\n",
       "    </tr>\n",
       "    <tr>\n",
       "      <th>2018</th>\n",
       "      <td>60000000</td>\n",
       "    </tr>\n",
       "    <tr>\n",
       "      <th>2019</th>\n",
       "      <td>10713000</td>\n",
       "    </tr>\n",
       "    <tr>\n",
       "      <th>2020</th>\n",
       "      <td>5000000</td>\n",
       "    </tr>\n",
       "  </tbody>\n",
       "</table>\n",
       "</div>"
      ],
      "text/plain": [
       "      Approved Amount\n",
       "Year                 \n",
       "2016         25000000\n",
       "2017         60000000\n",
       "2018         60000000\n",
       "2019         10713000\n",
       "2020          5000000"
      ]
     },
     "execution_count": 103,
     "metadata": {},
     "output_type": "execute_result"
    }
   ],
   "source": [
    "# Calculating the max cost for Cambridge's planned projects.\n",
    "budget_counts.aggregate(max)"
   ]
  },
  {
   "cell_type": "code",
   "execution_count": 104,
   "metadata": {
    "collapsed": false
   },
   "outputs": [
    {
     "data": {
      "text/html": [
       "<div>\n",
       "<table border=\"1\" class=\"dataframe\">\n",
       "  <thead>\n",
       "    <tr style=\"text-align: right;\">\n",
       "      <th></th>\n",
       "      <th>Approved Amount</th>\n",
       "    </tr>\n",
       "    <tr>\n",
       "      <th>Year</th>\n",
       "      <th></th>\n",
       "    </tr>\n",
       "  </thead>\n",
       "  <tbody>\n",
       "    <tr>\n",
       "      <th>2016</th>\n",
       "      <td>1201074</td>\n",
       "    </tr>\n",
       "    <tr>\n",
       "      <th>2017</th>\n",
       "      <td>2087720</td>\n",
       "    </tr>\n",
       "    <tr>\n",
       "      <th>2018</th>\n",
       "      <td>1917994</td>\n",
       "    </tr>\n",
       "    <tr>\n",
       "      <th>2019</th>\n",
       "      <td>845545</td>\n",
       "    </tr>\n",
       "    <tr>\n",
       "      <th>2020</th>\n",
       "      <td>653549</td>\n",
       "    </tr>\n",
       "  </tbody>\n",
       "</table>\n",
       "</div>"
      ],
      "text/plain": [
       "      Approved Amount\n",
       "Year                 \n",
       "2016          1201074\n",
       "2017          2087720\n",
       "2018          1917994\n",
       "2019           845545\n",
       "2020           653549"
      ]
     },
     "execution_count": 104,
     "metadata": {},
     "output_type": "execute_result"
    }
   ],
   "source": [
    "# Calculating the average cost for Cambridge's planned projects.\n",
    "budget_counts.aggregate(np.average)"
   ]
  },
  {
   "cell_type": "code",
   "execution_count": null,
   "metadata": {
    "collapsed": true
   },
   "outputs": [],
   "source": []
  }
 ],
 "metadata": {
  "kernelspec": {
   "display_name": "Python 2",
   "language": "python",
   "name": "python2"
  },
  "language_info": {
   "codemirror_mode": {
    "name": "ipython",
    "version": 2
   },
   "file_extension": ".py",
   "mimetype": "text/x-python",
   "name": "python",
   "nbconvert_exporter": "python",
   "pygments_lexer": "ipython2",
   "version": "2.7.3"
  }
 },
 "nbformat": 4,
 "nbformat_minor": 0
}
